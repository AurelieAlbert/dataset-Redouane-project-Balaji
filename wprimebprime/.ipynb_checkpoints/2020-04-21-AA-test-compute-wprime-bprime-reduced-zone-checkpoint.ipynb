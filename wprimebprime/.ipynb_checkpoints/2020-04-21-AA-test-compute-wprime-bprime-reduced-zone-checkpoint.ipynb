{
 "cells": [
  {
   "cell_type": "code",
   "execution_count": null,
   "metadata": {},
   "outputs": [],
   "source": [
    "import xarray as xr \n",
    "import dask \n",
    "import numpy as np \n",
    "import os \n",
    "import time \n",
    "import glob\n",
    "import datetime\n",
    "import pandas as pd\n",
    "import sys\n",
    "\n",
    "today=datetime.date.today()\n",
    "\n",
    "import sys\n",
    "sys.path.insert(0,'/scratch/cnt0024/hmg2840/albert7a/DEV/git/xscale')\n",
    "import xscale"
   ]
  },
  {
   "cell_type": "code",
   "execution_count": null,
   "metadata": {},
   "outputs": [],
   "source": [
    "data_dir = '/store/CT1/hmg2840/lbrodeau/eNATL60/eNATL60-BLBT02-S/'\n",
    "gridfile='/store/CT1/hmg2840/lbrodeau/eNATL60/eNATL60-I/mesh_mask_eNATL60_3.6_lev1.nc4'\n",
    "dsgrid=xr.open_dataset(gridfile,chunks={'x':1000,'y':1000})\n"
   ]
  },
  {
   "cell_type": "code",
   "execution_count": null,
   "metadata": {},
   "outputs": [],
   "source": [
    "    box = str('GS')\n",
    "    k = int(4)\n",
    "    date = str('y2009m07d05')\n",
    "\n",
    "    imin,imax,jmin,jmax,box_name=read_csv(box)\n",
    "    profile_name='/scratch/cnt0024/hmg2840/albert7a/eNATL60/eNATL60-BLBT02-S/RL/'+str(box)+'/eNATL60'+str(box)+box_name[k]+'-BLBT02_y'+date[0:4]+'m'+date[4:6]+'d'+date[6:9]+'_wprimebprime-profile.nc'\n",
    "\n"
   ]
  },
  {
   "cell_type": "code",
   "execution_count": null,
   "metadata": {},
   "outputs": [],
   "source": [
    "def read_csv(box):\n",
    "    boxes=pd.read_csv('/scratch/cnt0024/hmg2840/albert7a/DEV/git/dataset-Redouane-project-Balaji/boxes/boxes_'+str(box)+'_1x1_eNATL60.csv',sep = '\\t',index_col=0)\n",
    "    imin=boxes['imin']\n",
    "    imax=boxes['imax']\n",
    "    jmin=boxes['jmin']\n",
    "    jmax=boxes['jmax']\n",
    "    box_name=boxes.index\n",
    "    return imin,imax,jmin,jmax,box_name\n",
    "\n",
    "## functions useful for computations\n",
    "\n",
    "def compute_buoy(t,s):\n",
    "    rau0  = 1000\n",
    "    grav  = 9.81\n",
    "    buoy= -1*(grav/rau0)*sigma0(t,s)\n",
    "    return buoy\n",
    "\n",
    "def sigma0(t,s):\n",
    "    zrau0=1000\n",
    "    zsr=np.sqrt(np.abs(s))\n",
    "    zs=s\n",
    "    zt=t\n",
    "    zr1 = ( ( ( ( 6.536332e-9*zt-1.120083e-6 )*zt+1.001685e-4)*zt - 9.095290e-3 )*zt+6.793952e-2 )*zt+999.842594\n",
    "    zr2= ( ( ( 5.3875e-9*zt-8.2467e-7 )*zt+7.6438e-5 ) *zt - 4.0899e-3 ) *zt+0.824493\n",
    "    zr3= ( -1.6546e-6*zt+1.0227e-4 ) *zt-5.72466e-3\n",
    "    zr4= 4.8314e-4\n",
    "    sigma0=( zr4*zs + zr3*zsr + zr2 ) *zs + zr1 - zrau0\n",
    "    return sigma0\n",
    "\n",
    "def filt(w):\n",
    "    win_box2D = w.window\n",
    "    win_box2D.set(window='hanning', cutoff=90, dim=['x', 'y'], n=[90, 90])\n",
    "    bw = win_box2D.boundary_weights(drop_dims=[])\n",
    "    w_LS = win_box2D.convolve(weights=bw)\n",
    "    w_SS=w-w_LS\n",
    "    return w_SS\n"
   ]
  },
  {
   "cell_type": "code",
   "execution_count": null,
   "metadata": {},
   "outputs": [],
   "source": [
    "    print('read the data')\n",
    "    tfilename = sorted(glob.glob(data_dir+'*/eNATL60-BLBT02_1h_*_gridT_'+date+'-'+date+'.nc'))\n",
    "    tfile=tfilename[0]\n",
    "    dst=xr.open_dataset(tfile,chunks={'x':1000,'y':1000,'time_counter':1,'deptht':1})\n",
    "    tdata=dst['votemper'][:,:,np.min(jmin)-60:np.max(jmax)+60,np.min(imin)-60:np.max(imax)+60]\n",
    "    deptht=dst['deptht']\n",
    "    sfilename = sorted(glob.glob(data_dir+'*/eNATL60-BLBT02_1h_*_gridS_'+date+'-'+date+'.nc'))\n",
    "    sfile=sfilename[0]\n",
    "    dss=xr.open_dataset(sfile,chunks={'x':1000,'y':1000,'time_counter':1,'deptht':1})\n",
    "    sdata=dss['vosaline'][:,:,np.min(jmin)-60:np.max(jmax)+60,np.min(imin)-60:np.max(imax)+60]\n",
    "    wfilename = sorted(glob.glob(data_dir+'*/eNATL60-BLBT02_1h_*_gridW_'+date+'-'+date+'.nc'))\n",
    "    wfile=wfilename[0]\n",
    "    dsw=xr.open_dataset(wfile,chunks={'x':1000,'y':1000,'time_counter':1,'depthw':1})\n",
    "    wdata=dsw['vovecrtz'][:,:,np.min(jmin)-60:np.max(jmax)+60,np.min(imin)-60:np.max(imax)+60]\n",
    "    print('compute buoyancy')\n",
    "    buoy=compute_buoy(tdata,sdata)\n",
    "    print('filter w')\n",
    "    wprime=filt(wdata)\n",
    "    print('filter buoyancy')\n",
    "    bprime=filt(buoy)\n",
    "    wprime_rechunk=wprime.chunk(chunks={'x':1000,'y':1000,'time_counter':1,'depthw':300}) \n",
    "    wprime_ont=wprime_rechunk.interp(depthw=deptht.values)\n",
    "    wprime_goodw=wprime_ont.rename({'depthw':'deptht'})\n",
    "    wprimebprime=wprime_goodw*bprime\n",
    "    profile=wprimebprime[:,:,jmin[ibox]-(np.min(jmin)-60):jmax[ibox]-(np.min(jmin)-60),imin[ibox]-(np.min(imin)-60):imax[ibox]-(np.min(imin)-60)].mean(dim={'x','y','time_counter'})\n",
    "    print('to dataset')\n",
    "    dataset=profile.to_dataset(name='wprimebprime')\n",
    "    dataset['wprimebprime'].attrs=tdata.attrs\n",
    "    dataset['wprimebprime'].attrs['standard_name']='vertical flux of small scales buoyancy'\n",
    "    dataset['wprimebprime'].attrs['long_name']='wprimebprime'\n",
    "    dataset['wprimebprime'].attrs['units']='m2/s3'\n",
    "    dataset.attrs['global_attribute']= 'vertical flux of small scales buoyancy times w profile averaged over 24h and in '+box_name[ibox]+' computed on occigen '+str(today)\n",
    "    print('to netcdf')\n",
    "    dataset.to_netcdf(path=profile_name,mode='w')\n"
   ]
  }
 ],
 "metadata": {
  "kernelspec": {
   "display_name": "pangeo_cloud",
   "language": "python",
   "name": "pangeo-cloud"
  },
  "language_info": {
   "codemirror_mode": {
    "name": "ipython",
    "version": 3
   },
   "file_extension": ".py",
   "mimetype": "text/x-python",
   "name": "python",
   "nbconvert_exporter": "python",
   "pygments_lexer": "ipython3",
   "version": "3.6.7"
  }
 },
 "nbformat": 4,
 "nbformat_minor": 2
}
